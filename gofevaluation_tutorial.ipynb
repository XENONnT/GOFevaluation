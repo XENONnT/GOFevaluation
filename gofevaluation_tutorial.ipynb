{
 "cells": [
  {
   "cell_type": "markdown",
   "id": "61b00f07-abac-42a7-8557-628064774c98",
   "metadata": {},
   "source": [
    "# GOFevaluation Tutorial\n",
    "Robert Hammann, Tim Wolf  \n",
    "October 2021"
   ]
  },
  {
   "cell_type": "markdown",
   "id": "f850affa-55ec-476e-b09a-6e3bf6a2c22c",
   "metadata": {},
   "source": [
    "The GOFevaluation package comprises the possibility to perform different 1D / nD, binned / two-sample (unbinned) GOF tests. The following tests are currently implemented:\n",
    "\n",
    "| GoF measure                   | Class                     |    data input   | reference input | dim |\n",
    "|-------------------------------|---------------------------|:---------------:|:---------------:|:---:|\n",
    "| Kolmogorov-Smirnov            | `KSTestGOF`               |      sample     |      binned     |  1D |\n",
    "| Two-Sample Kolmogorov-Smirnov | `KSTestTwoSampleGOF`      |      sample     |      sample     |  1D |\n",
    "| Two-Sample Anderson-Darling   | `ADTestTwoSampleGOF`      |      sample     |      sample     |  1D |\n",
    "| Poisson Chi2                  | `BinnedPoissonChi2GOF`    | binned / sample |      binned     |  nD |\n",
    "| Chi2                          | `BinnedChi2GOF`           | binned / sample |      binned     |  nD |\n",
    "| Point-to-point                | `PointToPointGOF`         |      sample     |      sample     |  nD |\n",
    "\n",
    "Each test is implemented as a class, in the following we call instances of a class `gof_object`. Depending on whether you want to perform a binned or unbinned test and whether your data and references are in binned or unbinned format, there are several ways to initialize a `gof_object` (discussed in Ch.1).  \n",
    "You can also perform multiple GOF tests in parallel with a wrapper class (discussed in Ch.2)."
   ]
  },
  {
   "cell_type": "code",
   "execution_count": 11,
   "id": "abe52839-2a4b-44c9-af4e-13978ce3f3d2",
   "metadata": {},
   "outputs": [],
   "source": [
    "import GOFevaluation as ge\n",
    "import scipy.stats as sps\n",
    "import matplotlib.pyplot as plt\n",
    "import numpy as np"
   ]
  },
  {
   "cell_type": "markdown",
   "id": "e78d87a1-ad01-43cd-9658-b092c10ef8a5",
   "metadata": {},
   "source": [
    "## 0. Generate some fake data for this tutorial"
   ]
  },
  {
   "cell_type": "code",
   "execution_count": null,
   "id": "38df1a99-2e35-487a-8fed-1a1d93dfc927",
   "metadata": {},
   "outputs": [],
   "source": [
    "# data sample:\n",
    "n_data_sample = 100 # number of events per data sample\n",
    "\n",
    "data_model = sps.norm()\n",
    "data_sample = data_model.rvs(size=n_data_sample)\n",
    "\n",
    "# reference samples:\n",
    "n_reference_sample = 10 * n_data_sample\n",
    "\n",
    "ref_model = data_model\n",
    "reference_sample = ref_model.rvs(size=n_reference_sample)\n",
    "\n",
    "# binning:\n",
    "bin_edges = np.linspace(-2.5, 2.5, 11)\n",
    "bin_centers = (bin_edges[:-1] + bin_edges[1:]) / 2\n",
    "\n",
    "binned_data, _ = np.histogram(data_sample, bins=bin_edges)\n",
    "\n",
    "# expectations:\n",
    "n_expectations = n_data_sample\n",
    "\n",
    "pdf = ref_model.pdf(bin_centers)\n",
    "pdf /= np.sum(pdf)\n",
    "expectations = pdf * n_expectations"
   ]
  },
  {
   "cell_type": "code",
   "execution_count": 15,
   "id": "c9613586-bba5-43cc-9761-f8ed930cdb47",
   "metadata": {},
   "outputs": [],
   "source": [
    "# Generate toy data sample and reference sample\n",
    "reference_sample = sps.norm().rvs([125*100, 2], random_state=42)\n",
    "reference_sample.T[1] += reference_sample.T[0]\n",
    "\n",
    "data_sample = sps.norm().rvs([125, 2], random_state=43)\n",
    "data_sample.T[1] += data_sample.T[0]\n",
    "\n",
    "# Bin Data & Reference\n",
    "binned_reference, bin_edges = np.histogramdd(reference_sample, bins=(5, 5))\n",
    "binned_data, _ = np.histogramdd(data_sample, bins=bin_edges)"
   ]
  },
  {
   "cell_type": "markdown",
   "id": "73b23993-e171-4561-aac3-9ba13ffadcd0",
   "metadata": {},
   "source": [
    "Let's have a look at the data!"
   ]
  },
  {
   "cell_type": "code",
   "execution_count": 9,
   "id": "557212fb-190d-4add-a062-3669b11c2d83",
   "metadata": {},
   "outputs": [
    {
     "data": {
      "image/png": "[encoded data removed]",
      "text/plain": [
       "<Figure size 432x288 with 1 Axes>"
      ]
     },
     "metadata": {
      "needs_background": "light"
     },
     "output_type": "display_data"
    }
   ],
   "source": [
    "plt.scatter(reference_sample.T[0], reference_sample.T[1])\n",
    "plt.scatter(data_sample.T[0], data_sample.T[1])\n",
    "plt.show()"
   ]
  },
  {
   "cell_type": "code",
   "execution_count": 18,
   "id": "fa523f05-44dc-465c-8b55-8ea62c0ae854",
   "metadata": {},
   "outputs": [
    {
     "data": {
      "image/png": "[encoded data removed]",
      "text/plain": [
       "<Figure size 432x288 with 1 Axes>"
      ]
     },
     "metadata": {
      "needs_background": "light"
     },
     "output_type": "display_data"
    }
   ],
   "source": [
    "plt.hist2d(reference_sample.T[0], reference_sample.T[1], bins=bin_edges)\n",
    "plt.show()"
   ]
  },
  {
   "cell_type": "markdown",
   "id": "4385559a-b1ec-466a-89ad-b51762093ea9",
   "metadata": {},
   "source": [
    "## 1. Make a simple GOF test"
   ]
  },
  {
   "cell_type": "markdown",
   "id": "117f1252-21cf-40a9-9c48-7d32e4e3cf72",
   "metadata": {},
   "source": [
    "### 1.1 Unbinned GOF test"
   ]
  },
  {
   "cell_type": "markdown",
   "id": "83ad08bf-907c-4e00-b495-1213c991acc0",
   "metadata": {},
   "source": [
    "### 1.2 Binned GOF test"
   ]
  },
  {
   "cell_type": "code",
   "execution_count": null,
   "id": "27e41d32-71f0-457c-ab55-a10bf9a006eb",
   "metadata": {},
   "outputs": [],
   "source": [
    "# Data Sample + Binned PDF\n",
    "gof_object = ge.BinnedPoissonChi2GOF(data_sample, pdf, bin_edges, nevents_expected)\n",
    "\n",
    "# Binned Data + Binned PDF\n",
    "gof_object = ge.BinnedPoissonChi2GOF.from_binned(binned_data, binned_reference)\n",
    "\n",
    "# Data Sample + Reference Sample\n",
    "gof_object = ge.PointToPointGOF(data_sample, reference_sample)"
   ]
  },
  {
   "cell_type": "code",
   "execution_count": null,
   "id": "d93c5b57-32c1-4b93-bf62-4602b5fa0d93",
   "metadata": {},
   "outputs": [],
   "source": [
    "# define eqpb parameters\n",
    "order = [0, 1]\n",
    "n_partitions = [5, 5]\n",
    "\n",
    "gof_object = ge.BinnedPoissonChi2GOF.bin_equiprobable(data_sample=data_sample,\n",
    "                                                      reference_sample=reference_sample,\n",
    "                                                      nevents_expected=125,\n",
    "                                                      n_partitions=n_partitions,\n",
    "                                                      order=order,\n",
    "                                                      plot=True,\n",
    "                                                     )\n",
    "ax = plt.gca()\n",
    "ax.set_xlabel('$x_1$')\n",
    "ax.set_ylabel('$x_2$')"
   ]
  },
  {
   "cell_type": "markdown",
   "id": "f6c56ca5-a0bc-46ac-a4b6-4c438db035d4",
   "metadata": {},
   "source": [
    "## 2. Perform multiple GOF tests at once"
   ]
  },
  {
   "cell_type": "code",
   "execution_count": null,
   "id": "1494fe2a-2cc8-443b-bb83-55e4cd8d3b66",
   "metadata": {},
   "outputs": [],
   "source": [
    "# Initialise all two-sample GoF measures:\n",
    "gof_object = ge.GOFTest(data_sample=data_sample, \n",
    "                        reference_sample=reference_sample,\n",
    "                        gof_list=['ADTestTwoSampleGOF', \n",
    "                                  'KSTestTwoSampleGOF', \n",
    "                                  'PointToPointGOF'])"
   ]
  },
  {
   "cell_type": "code",
   "execution_count": null,
   "id": "38099e5e-e72a-4aeb-b2ee-507e0299949e",
   "metadata": {},
   "outputs": [],
   "source": [
    "# Calculate GoFs and p-values:\n",
    "d_min = 0.01\n",
    "gof_object.get_gofs(d_min=d_min)\n",
    "# OUTPUT:\n",
    "# OrderedDict([('ADTestTwoSampleGOF', 1.6301454042304904),\n",
    "#              ('KSTestTwoSampleGOF', 0.14),\n",
    "#              ('PointToPointGOF', 0.00048491049630050576)])\n",
    "\n",
    "gof_object.get_pvalues(d_min=d_min)\n",
    "# OUTPUT:\n",
    "# OrderedDict([('ADTestTwoSampleGOF', 0.08699999999999997),\n",
    "#              ('KSTestTwoSampleGOF', 0.10699999999999998),\n",
    "#              ('PointToPointGOF', 0.14300000000000002)])\n",
    "\n",
    "# Re-calculate p-value only for one measure:\n",
    "gof_object.get_pvalues(d_min=.3, gof_list=['PointToPointGOF'])\n",
    "# OUTPUT:\n",
    "# OrderedDict([('ADTestTwoSampleGOF', 0.08699999999999997),\n",
    "#              ('KSTestTwoSampleGOF', 0.10699999999999998),\n",
    "#              ('PointToPointGOF', 0.03400000000000003)])\n",
    "\n",
    "print(gof_object)"
   ]
  }
 ],
 "metadata": {
  "kernelspec": {
   "display_name": "Python 3 (ipykernel)",
   "language": "python",
   "name": "python3"
  },
  "language_info": {
   "codemirror_mode": {
    "name": "ipython",
    "version": 3
   },
   "file_extension": ".py",
   "mimetype": "text/x-python",
   "name": "python",
   "nbconvert_exporter": "python",
   "pygments_lexer": "ipython3",
   "version": "3.8.12"
  }
 },
 "nbformat": 4,
 "nbformat_minor": 5
}
