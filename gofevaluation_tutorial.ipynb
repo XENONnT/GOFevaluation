{
 "cells": [
  {
   "cell_type": "markdown",
   "id": "61b00f07-abac-42a7-8557-628064774c98",
   "metadata": {},
   "source": [
    "# GOFevaluation Tutorial\n",
    "Robert Hammann, Tim Wolf  \n",
    "October 2021"
   ]
  },
  {
   "cell_type": "code",
   "execution_count": null,
   "id": "8d928609-989f-4a4d-80d6-f33ae0b142e9",
   "metadata": {},
   "outputs": [],
   "source": []
  }
 ],
 "metadata": {
  "kernelspec": {
   "display_name": "Python 3 (ipykernel)",
   "language": "python",
   "name": "python3"
  },
  "language_info": {
   "codemirror_mode": {
    "name": "ipython",
    "version": 3
   },
   "file_extension": ".py",
   "mimetype": "text/x-python",
   "name": "python",
   "nbconvert_exporter": "python",
   "pygments_lexer": "ipython3",
   "version": "3.8.12"
  }
 },
 "nbformat": 4,
 "nbformat_minor": 5
}
